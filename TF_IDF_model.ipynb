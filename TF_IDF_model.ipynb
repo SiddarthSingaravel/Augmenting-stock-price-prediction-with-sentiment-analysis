{
 "metadata": {
  "language_info": {
   "codemirror_mode": {
    "name": "ipython",
    "version": 3
   },
   "file_extension": ".py",
   "mimetype": "text/x-python",
   "name": "python",
   "nbconvert_exporter": "python",
   "pygments_lexer": "ipython3",
   "version": "3.7.6"
  },
  "orig_nbformat": 2,
  "kernelspec": {
   "name": "python376jvsc74a57bd066db0d3ad52ff1eeef19db02420837317e08d2447c9f7fdd37790b6f55ec4833",
   "display_name": "Python 3.7.6 64-bit ('base': conda)"
  }
 },
 "nbformat": 4,
 "nbformat_minor": 2,
 "cells": [
  {
   "source": [],
   "cell_type": "markdown",
   "metadata": {}
  },
  {
   "cell_type": "code",
   "execution_count": 2,
   "metadata": {},
   "outputs": [],
   "source": [
    "# Importing the libraries\n",
    "import pandas as pd\n",
    "import numpy as np"
   ]
  },
  {
   "source": [
    "### The data set consist of news(world news and stock price shifts) collected from 2008 to 2016 which was scrapped from YAHOO finance for the DJIA (Dow Jones Industrial Average)."
   ],
   "cell_type": "markdown",
   "metadata": {}
  },
  {
   "cell_type": "code",
   "execution_count": 3,
   "metadata": {},
   "outputs": [],
   "source": [
    "# Fetching the data\n",
    "df = pd.read_csv('NEWS_DJIA.csv')"
   ]
  },
  {
   "cell_type": "code",
   "execution_count": 4,
   "metadata": {},
   "outputs": [
    {
     "output_type": "execute_result",
     "data": {
      "text/plain": [
       "         Date  Label                                               Top1  \\\n",
       "0  2008-08-08      0  b\"Georgia 'downs two Russian warplanes' as cou...   \n",
       "1  2008-08-11      1  b'Why wont America and Nato help us? If they w...   \n",
       "2  2008-08-12      0  b'Remember that adorable 9-year-old who sang a...   \n",
       "3  2008-08-13      0  b' U.S. refuses Israel weapons to attack Iran:...   \n",
       "4  2008-08-14      1  b'All the experts admit that we should legalis...   \n",
       "\n",
       "                                                Top2  \\\n",
       "0            b'BREAKING: Musharraf to be impeached.'   \n",
       "1        b'Bush puts foot down on Georgian conflict'   \n",
       "2                 b\"Russia 'ends Georgia operation'\"   \n",
       "3  b\"When the president ordered to attack Tskhinv...   \n",
       "4  b'War in South Osetia - 89 pictures made by a ...   \n",
       "\n",
       "                                                Top3  \\\n",
       "0  b'Russia Today: Columns of troops roll into So...   \n",
       "1  b\"Jewish Georgian minister: Thanks to Israeli ...   \n",
       "2  b'\"If we had no sexual harassment we would hav...   \n",
       "3  b' Israel clears troops who killed Reuters cam...   \n",
       "4  b'Swedish wrestler Ara Abrahamian throws away ...   \n",
       "\n",
       "                                                Top4  \\\n",
       "0  b'Russian tanks are moving towards the capital...   \n",
       "1  b'Georgian army flees in disarray as Russians ...   \n",
       "2  b\"Al-Qa'eda is losing support in Iraq because ...   \n",
       "3  b'Britain\\'s policy of being tough on drugs is...   \n",
       "4  b'Russia exaggerated the death toll in South O...   \n",
       "\n",
       "                                                Top5  \\\n",
       "0  b\"Afghan children raped with 'impunity,' U.N. ...   \n",
       "1      b\"Olympic opening ceremony fireworks 'faked'\"   \n",
       "2  b'Ceasefire in Georgia: Putin Outmaneuvers the...   \n",
       "3  b'Body of 14 year old found in trunk; Latest (...   \n",
       "4  b'Missile That Killed 9 Inside Pakistan May Ha...   \n",
       "\n",
       "                                                Top6  \\\n",
       "0  b'150 Russian tanks have entered South Ossetia...   \n",
       "1  b'What were the Mossad with fraudulent New Zea...   \n",
       "2  b'Why Microsoft and Intel tried to kill the XO...   \n",
       "3  b'China has moved 10 *million* quake survivors...   \n",
       "4  b\"Rushdie Condemns Random House's Refusal to P...   \n",
       "\n",
       "                                                Top7  \\\n",
       "0  b\"Breaking: Georgia invades South Ossetia, Rus...   \n",
       "1  b'Russia angered by Israeli military sale to G...   \n",
       "2  b'Stratfor: The Russo-Georgian War and the Bal...   \n",
       "3  b\"Bush announces Operation Get All Up In Russi...   \n",
       "4  b'Poland and US agree to missle defense deal. ...   \n",
       "\n",
       "                                                Top8  ...  \\\n",
       "0  b\"The 'enemy combatent' trials are nothing but...  ...   \n",
       "1  b'An American citizen living in S.Ossetia blam...  ...   \n",
       "2  b\"I'm Trying to Get a Sense of This Whole Geor...  ...   \n",
       "3             b'Russian forces sink Georgian ships '  ...   \n",
       "4  b'Will the Russians conquer Tblisi? Bet on it,...  ...   \n",
       "\n",
       "                                               Top16  \\\n",
       "0  b'Georgia Invades South Ossetia - if Russia ge...   \n",
       "1  b'Israel and the US behind the Georgian aggres...   \n",
       "2  b'U.S. troops still in Georgia (did you know t...   \n",
       "3                      b'Elephants extinct by 2020?'   \n",
       "4  b'Bank analyst forecast Georgian crisis 2 days...   \n",
       "\n",
       "                                               Top17  \\\n",
       "0                b'Al-Qaeda Faces Islamist Backlash'   \n",
       "1  b'\"Do not believe TV, neither Russian nor Geor...   \n",
       "2       b'Why Russias response to Georgia was right'   \n",
       "3  b'US humanitarian missions soon in Georgia - i...   \n",
       "4  b\"Georgia confict could set back Russia's US r...   \n",
       "\n",
       "                                               Top18  \\\n",
       "0  b'Condoleezza Rice: \"The US would not act to p...   \n",
       "1  b'Riots are still going on in Montreal (Canada...   \n",
       "2  b'Gorbachev accuses U.S. of making a \"serious ...   \n",
       "3             b\"Georgia's DDOS came from US sources\"   \n",
       "4  b'War in the Caucasus is as much the product o...   \n",
       "\n",
       "                                               Top19  \\\n",
       "0  b'This is a busy day:  The European Union has ...   \n",
       "1    b'China to overtake US as largest manufacturer'   \n",
       "2         b'Russia, Georgia, and NATO: Cold War Two'   \n",
       "3  b'Russian convoy heads into Georgia, violating...   \n",
       "4  b'\"Non-media\" photos of South Ossetia/Georgia ...   \n",
       "\n",
       "                                               Top20  \\\n",
       "0  b\"Georgia will withdraw 1,000 soldiers from Ir...   \n",
       "1                     b'War in South Ossetia [PICS]'   \n",
       "2  b'Remember that adorable 62-year-old who led y...   \n",
       "3  b'Israeli defence minister: US against strike ...   \n",
       "4  b'Georgian TV reporter shot by Russian sniper ...   \n",
       "\n",
       "                                               Top21  \\\n",
       "0  b'Why the Pentagon Thinks Attacking Iran is a ...   \n",
       "1  b'Israeli Physicians Group Condemns State Tort...   \n",
       "2          b'War in Georgia: The Israeli connection'   \n",
       "3                     b'Gorbachev: We Had No Choice'   \n",
       "4  b'Saudi Arabia: Mother moves to block child ma...   \n",
       "\n",
       "                                               Top22  \\\n",
       "0  b'Caucasus in crisis: Georgia invades South Os...   \n",
       "1  b' Russia has just beaten the United States ov...   \n",
       "2  b'All signs point to the US encouraging Georgi...   \n",
       "3  b'Witness: Russian forces head towards Tbilisi...   \n",
       "4   b'Taliban wages war on humanitarian aid workers'   \n",
       "\n",
       "                                               Top23  \\\n",
       "0  b'Indian shoe manufactory  - And again in a se...   \n",
       "1  b'Perhaps *the* question about the Georgia - R...   \n",
       "2  b'Christopher King argues that the US and NATO...   \n",
       "3  b' Quarter of Russians blame U.S. for conflict...   \n",
       "4  b'Russia: World  \"can forget about\" Georgia\\'s...   \n",
       "\n",
       "                                               Top24  \\\n",
       "0  b'Visitors Suffering from Mental Illnesses Ban...   \n",
       "1                 b'Russia is so much better at war'   \n",
       "2                        b'America: The New Mexico?'   \n",
       "3  b'Georgian president  says US military will ta...   \n",
       "4  b'Darfur rebels accuse Sudan of mounting major...   \n",
       "\n",
       "                                               Top25  \n",
       "0           b\"No Help for Mexico's Kidnapping Surge\"  \n",
       "1  b\"So this is what it's come to: trading sex fo...  \n",
       "2  b\"BBC NEWS | Asia-Pacific | Extinction 'by man...  \n",
       "3  b'2006: Nobel laureate Aleksander Solzhenitsyn...  \n",
       "4  b'Philippines : Peace Advocate say Muslims nee...  \n",
       "\n",
       "[5 rows x 27 columns]"
      ],
      "text/html": "<div>\n<style scoped>\n    .dataframe tbody tr th:only-of-type {\n        vertical-align: middle;\n    }\n\n    .dataframe tbody tr th {\n        vertical-align: top;\n    }\n\n    .dataframe thead th {\n        text-align: right;\n    }\n</style>\n<table border=\"1\" class=\"dataframe\">\n  <thead>\n    <tr style=\"text-align: right;\">\n      <th></th>\n      <th>Date</th>\n      <th>Label</th>\n      <th>Top1</th>\n      <th>Top2</th>\n      <th>Top3</th>\n      <th>Top4</th>\n      <th>Top5</th>\n      <th>Top6</th>\n      <th>Top7</th>\n      <th>Top8</th>\n      <th>...</th>\n      <th>Top16</th>\n      <th>Top17</th>\n      <th>Top18</th>\n      <th>Top19</th>\n      <th>Top20</th>\n      <th>Top21</th>\n      <th>Top22</th>\n      <th>Top23</th>\n      <th>Top24</th>\n      <th>Top25</th>\n    </tr>\n  </thead>\n  <tbody>\n    <tr>\n      <th>0</th>\n      <td>2008-08-08</td>\n      <td>0</td>\n      <td>b\"Georgia 'downs two Russian warplanes' as cou...</td>\n      <td>b'BREAKING: Musharraf to be impeached.'</td>\n      <td>b'Russia Today: Columns of troops roll into So...</td>\n      <td>b'Russian tanks are moving towards the capital...</td>\n      <td>b\"Afghan children raped with 'impunity,' U.N. ...</td>\n      <td>b'150 Russian tanks have entered South Ossetia...</td>\n      <td>b\"Breaking: Georgia invades South Ossetia, Rus...</td>\n      <td>b\"The 'enemy combatent' trials are nothing but...</td>\n      <td>...</td>\n      <td>b'Georgia Invades South Ossetia - if Russia ge...</td>\n      <td>b'Al-Qaeda Faces Islamist Backlash'</td>\n      <td>b'Condoleezza Rice: \"The US would not act to p...</td>\n      <td>b'This is a busy day:  The European Union has ...</td>\n      <td>b\"Georgia will withdraw 1,000 soldiers from Ir...</td>\n      <td>b'Why the Pentagon Thinks Attacking Iran is a ...</td>\n      <td>b'Caucasus in crisis: Georgia invades South Os...</td>\n      <td>b'Indian shoe manufactory  - And again in a se...</td>\n      <td>b'Visitors Suffering from Mental Illnesses Ban...</td>\n      <td>b\"No Help for Mexico's Kidnapping Surge\"</td>\n    </tr>\n    <tr>\n      <th>1</th>\n      <td>2008-08-11</td>\n      <td>1</td>\n      <td>b'Why wont America and Nato help us? If they w...</td>\n      <td>b'Bush puts foot down on Georgian conflict'</td>\n      <td>b\"Jewish Georgian minister: Thanks to Israeli ...</td>\n      <td>b'Georgian army flees in disarray as Russians ...</td>\n      <td>b\"Olympic opening ceremony fireworks 'faked'\"</td>\n      <td>b'What were the Mossad with fraudulent New Zea...</td>\n      <td>b'Russia angered by Israeli military sale to G...</td>\n      <td>b'An American citizen living in S.Ossetia blam...</td>\n      <td>...</td>\n      <td>b'Israel and the US behind the Georgian aggres...</td>\n      <td>b'\"Do not believe TV, neither Russian nor Geor...</td>\n      <td>b'Riots are still going on in Montreal (Canada...</td>\n      <td>b'China to overtake US as largest manufacturer'</td>\n      <td>b'War in South Ossetia [PICS]'</td>\n      <td>b'Israeli Physicians Group Condemns State Tort...</td>\n      <td>b' Russia has just beaten the United States ov...</td>\n      <td>b'Perhaps *the* question about the Georgia - R...</td>\n      <td>b'Russia is so much better at war'</td>\n      <td>b\"So this is what it's come to: trading sex fo...</td>\n    </tr>\n    <tr>\n      <th>2</th>\n      <td>2008-08-12</td>\n      <td>0</td>\n      <td>b'Remember that adorable 9-year-old who sang a...</td>\n      <td>b\"Russia 'ends Georgia operation'\"</td>\n      <td>b'\"If we had no sexual harassment we would hav...</td>\n      <td>b\"Al-Qa'eda is losing support in Iraq because ...</td>\n      <td>b'Ceasefire in Georgia: Putin Outmaneuvers the...</td>\n      <td>b'Why Microsoft and Intel tried to kill the XO...</td>\n      <td>b'Stratfor: The Russo-Georgian War and the Bal...</td>\n      <td>b\"I'm Trying to Get a Sense of This Whole Geor...</td>\n      <td>...</td>\n      <td>b'U.S. troops still in Georgia (did you know t...</td>\n      <td>b'Why Russias response to Georgia was right'</td>\n      <td>b'Gorbachev accuses U.S. of making a \"serious ...</td>\n      <td>b'Russia, Georgia, and NATO: Cold War Two'</td>\n      <td>b'Remember that adorable 62-year-old who led y...</td>\n      <td>b'War in Georgia: The Israeli connection'</td>\n      <td>b'All signs point to the US encouraging Georgi...</td>\n      <td>b'Christopher King argues that the US and NATO...</td>\n      <td>b'America: The New Mexico?'</td>\n      <td>b\"BBC NEWS | Asia-Pacific | Extinction 'by man...</td>\n    </tr>\n    <tr>\n      <th>3</th>\n      <td>2008-08-13</td>\n      <td>0</td>\n      <td>b' U.S. refuses Israel weapons to attack Iran:...</td>\n      <td>b\"When the president ordered to attack Tskhinv...</td>\n      <td>b' Israel clears troops who killed Reuters cam...</td>\n      <td>b'Britain\\'s policy of being tough on drugs is...</td>\n      <td>b'Body of 14 year old found in trunk; Latest (...</td>\n      <td>b'China has moved 10 *million* quake survivors...</td>\n      <td>b\"Bush announces Operation Get All Up In Russi...</td>\n      <td>b'Russian forces sink Georgian ships '</td>\n      <td>...</td>\n      <td>b'Elephants extinct by 2020?'</td>\n      <td>b'US humanitarian missions soon in Georgia - i...</td>\n      <td>b\"Georgia's DDOS came from US sources\"</td>\n      <td>b'Russian convoy heads into Georgia, violating...</td>\n      <td>b'Israeli defence minister: US against strike ...</td>\n      <td>b'Gorbachev: We Had No Choice'</td>\n      <td>b'Witness: Russian forces head towards Tbilisi...</td>\n      <td>b' Quarter of Russians blame U.S. for conflict...</td>\n      <td>b'Georgian president  says US military will ta...</td>\n      <td>b'2006: Nobel laureate Aleksander Solzhenitsyn...</td>\n    </tr>\n    <tr>\n      <th>4</th>\n      <td>2008-08-14</td>\n      <td>1</td>\n      <td>b'All the experts admit that we should legalis...</td>\n      <td>b'War in South Osetia - 89 pictures made by a ...</td>\n      <td>b'Swedish wrestler Ara Abrahamian throws away ...</td>\n      <td>b'Russia exaggerated the death toll in South O...</td>\n      <td>b'Missile That Killed 9 Inside Pakistan May Ha...</td>\n      <td>b\"Rushdie Condemns Random House's Refusal to P...</td>\n      <td>b'Poland and US agree to missle defense deal. ...</td>\n      <td>b'Will the Russians conquer Tblisi? Bet on it,...</td>\n      <td>...</td>\n      <td>b'Bank analyst forecast Georgian crisis 2 days...</td>\n      <td>b\"Georgia confict could set back Russia's US r...</td>\n      <td>b'War in the Caucasus is as much the product o...</td>\n      <td>b'\"Non-media\" photos of South Ossetia/Georgia ...</td>\n      <td>b'Georgian TV reporter shot by Russian sniper ...</td>\n      <td>b'Saudi Arabia: Mother moves to block child ma...</td>\n      <td>b'Taliban wages war on humanitarian aid workers'</td>\n      <td>b'Russia: World  \"can forget about\" Georgia\\'s...</td>\n      <td>b'Darfur rebels accuse Sudan of mounting major...</td>\n      <td>b'Philippines : Peace Advocate say Muslims nee...</td>\n    </tr>\n  </tbody>\n</table>\n<p>5 rows × 27 columns</p>\n</div>"
     },
     "metadata": {},
     "execution_count": 4
    }
   ],
   "source": [
    "df.head() # Here the top 25 columns denotes the news headline for each day."
   ]
  },
  {
   "cell_type": "code",
   "execution_count": 5,
   "metadata": {},
   "outputs": [
    {
     "output_type": "execute_result",
     "data": {
      "text/plain": [
       "(1989, 27)"
      ]
     },
     "metadata": {},
     "execution_count": 5
    }
   ],
   "source": [
    "df.shape # This shows we have 1989 row values and 27 columns"
   ]
  },
  {
   "source": [
    "## Understanding what the above table means?\n",
    "### In our Label columns, we have :\n",
    "### 0 - Stock price will not increase nxt day\n",
    "### 1 - Stock price will increase nxt day\n"
   ],
   "cell_type": "markdown",
   "metadata": {}
  },
  {
   "cell_type": "code",
   "execution_count": 19,
   "metadata": {},
   "outputs": [],
   "source": [
    "# Splitting the dataset\n",
    "train = df[df['Date']<'20150101'] # for training (2008 - 2014)\n",
    "test = df[df['Date'] > '20141231'] # for Testing (2015 & 2016)"
   ]
  },
  {
   "cell_type": "code",
   "execution_count": 7,
   "metadata": {},
   "outputs": [
    {
     "output_type": "execute_result",
     "data": {
      "text/plain": [
       "(1863, 27)"
      ]
     },
     "metadata": {},
     "execution_count": 7
    }
   ],
   "source": [
    "train.shape"
   ]
  },
  {
   "source": [
    "## Text Pre-processing\n",
    "### i)Cleansing of the data by removing symbols and punctuation."
   ],
   "cell_type": "markdown",
   "metadata": {}
  },
  {
   "cell_type": "code",
   "execution_count": 8,
   "metadata": {},
   "outputs": [],
   "source": [
    "data = train.iloc[:, 2:27] ## No need of the target variable(label)\n",
    "data.replace(\"[^a-zA-Z]\", \" \", regex=True, inplace=True)"
   ]
  },
  {
   "cell_type": "code",
   "execution_count": 9,
   "metadata": {},
   "outputs": [
    {
     "output_type": "execute_result",
     "data": {
      "text/plain": [
       "                                                   0  \\\n",
       "0  b Georgia  downs two Russian warplanes  as cou...   \n",
       "1  b Why wont America and Nato help us  If they w...   \n",
       "2  b Remember that adorable   year old who sang a...   \n",
       "3  b  U S  refuses Israel weapons to attack Iran ...   \n",
       "4  b All the experts admit that we should legalis...   \n",
       "\n",
       "                                                   1  \\\n",
       "0            b BREAKING  Musharraf to be impeached     \n",
       "1        b Bush puts foot down on Georgian conflict    \n",
       "2                 b Russia  ends Georgia operation     \n",
       "3  b When the president ordered to attack Tskhinv...   \n",
       "4  b War in South Osetia      pictures made by a ...   \n",
       "\n",
       "                                                   2  \\\n",
       "0  b Russia Today  Columns of troops roll into So...   \n",
       "1  b Jewish Georgian minister  Thanks to Israeli ...   \n",
       "2  b  If we had no sexual harassment we would hav...   \n",
       "3  b  Israel clears troops who killed Reuters cam...   \n",
       "4  b Swedish wrestler Ara Abrahamian throws away ...   \n",
       "\n",
       "                                                   3  \\\n",
       "0  b Russian tanks are moving towards the capital...   \n",
       "1  b Georgian army flees in disarray as Russians ...   \n",
       "2  b Al Qa eda is losing support in Iraq because ...   \n",
       "3  b Britain  s policy of being tough on drugs is...   \n",
       "4  b Russia exaggerated the death toll in South O...   \n",
       "\n",
       "                                                   4  \\\n",
       "0  b Afghan children raped with  impunity   U N  ...   \n",
       "1      b Olympic opening ceremony fireworks  faked     \n",
       "2  b Ceasefire in Georgia  Putin Outmaneuvers the...   \n",
       "3  b Body of    year old found in trunk  Latest  ...   \n",
       "4  b Missile That Killed   Inside Pakistan May Ha...   \n",
       "\n",
       "                                                   5  \\\n",
       "0  b     Russian tanks have entered South Ossetia...   \n",
       "1  b What were the Mossad with fraudulent New Zea...   \n",
       "2  b Why Microsoft and Intel tried to kill the XO...   \n",
       "3  b China has moved     million  quake survivors...   \n",
       "4  b Rushdie Condemns Random House s Refusal to P...   \n",
       "\n",
       "                                                   6  \\\n",
       "0  b Breaking  Georgia invades South Ossetia  Rus...   \n",
       "1  b Russia angered by Israeli military sale to G...   \n",
       "2  b Stratfor  The Russo Georgian War and the Bal...   \n",
       "3  b Bush announces Operation Get All Up In Russi...   \n",
       "4  b Poland and US agree to missle defense deal  ...   \n",
       "\n",
       "                                                   7  \\\n",
       "0  b The  enemy combatent  trials are nothing but...   \n",
       "1  b An American citizen living in S Ossetia blam...   \n",
       "2  b I m Trying to Get a Sense of This Whole Geor...   \n",
       "3             b Russian forces sink Georgian ships     \n",
       "4  b Will the Russians conquer Tblisi  Bet on it ...   \n",
       "\n",
       "                                                   8  \\\n",
       "0  b Georgian troops retreat from S  Osettain cap...   \n",
       "1  b Welcome To World War IV  Now In High Definit...   \n",
       "2  b The US military was surprised by the timing ...   \n",
       "3  b The commander of a Navy air reconnaissance s...   \n",
       "4  b Russia exaggerating South Ossetian death tol...   \n",
       "\n",
       "                                                   9  ...  \\\n",
       "0  b Did the U S  Prep Georgia for War with Russia    ...   \n",
       "1  b Georgia s move  a mistake of monumental prop...  ...   \n",
       "2    b U S  Beats War Drum as Iran Dumps the Dollar   ...   \n",
       "3  b     of CNN readers  Russia s actions in Geor...  ...   \n",
       "4  b  Musharraf expected to resign rather than fa...  ...   \n",
       "\n",
       "                                                  15  \\\n",
       "0  b Georgia Invades South Ossetia   if Russia ge...   \n",
       "1  b Israel and the US behind the Georgian aggres...   \n",
       "2  b U S  troops still in Georgia  did you know t...   \n",
       "3                      b Elephants extinct by          \n",
       "4  b Bank analyst forecast Georgian crisis   days...   \n",
       "\n",
       "                                                  16  \\\n",
       "0                b Al Qaeda Faces Islamist Backlash    \n",
       "1  b  Do not believe TV  neither Russian nor Geor...   \n",
       "2       b Why Russias response to Georgia was right    \n",
       "3  b US humanitarian missions soon in Georgia   i...   \n",
       "4  b Georgia confict could set back Russia s US r...   \n",
       "\n",
       "                                                  17  \\\n",
       "0  b Condoleezza Rice   The US would not act to p...   \n",
       "1  b Riots are still going on in Montreal  Canada...   \n",
       "2  b Gorbachev accuses U S  of making a  serious ...   \n",
       "3             b Georgia s DDOS came from US sources    \n",
       "4  b War in the Caucasus is as much the product o...   \n",
       "\n",
       "                                                  18  \\\n",
       "0  b This is a busy day   The European Union has ...   \n",
       "1    b China to overtake US as largest manufacturer    \n",
       "2         b Russia  Georgia  and NATO  Cold War Two    \n",
       "3  b Russian convoy heads into Georgia  violating...   \n",
       "4  b  Non media  photos of South Ossetia Georgia ...   \n",
       "\n",
       "                                                  19  \\\n",
       "0  b Georgia will withdraw       soldiers from Ir...   \n",
       "1                     b War in South Ossetia  PICS     \n",
       "2  b Remember that adorable    year old who led y...   \n",
       "3  b Israeli defence minister  US against strike ...   \n",
       "4  b Georgian TV reporter shot by Russian sniper ...   \n",
       "\n",
       "                                                  20  \\\n",
       "0  b Why the Pentagon Thinks Attacking Iran is a ...   \n",
       "1  b Israeli Physicians Group Condemns State Tort...   \n",
       "2          b War in Georgia  The Israeli connection    \n",
       "3                     b Gorbachev  We Had No Choice    \n",
       "4  b Saudi Arabia  Mother moves to block child ma...   \n",
       "\n",
       "                                                  21  \\\n",
       "0  b Caucasus in crisis  Georgia invades South Os...   \n",
       "1  b  Russia has just beaten the United States ov...   \n",
       "2  b All signs point to the US encouraging Georgi...   \n",
       "3  b Witness  Russian forces head towards Tbilisi...   \n",
       "4   b Taliban wages war on humanitarian aid workers    \n",
       "\n",
       "                                                  22  \\\n",
       "0  b Indian shoe manufactory    And again in a se...   \n",
       "1  b Perhaps  the  question about the Georgia   R...   \n",
       "2  b Christopher King argues that the US and NATO...   \n",
       "3  b  Quarter of Russians blame U S  for conflict...   \n",
       "4  b Russia  World   can forget about  Georgia  s...   \n",
       "\n",
       "                                                  23  \\\n",
       "0  b Visitors Suffering from Mental Illnesses Ban...   \n",
       "1                 b Russia is so much better at war    \n",
       "2                        b America  The New Mexico     \n",
       "3  b Georgian president  says US military will ta...   \n",
       "4  b Darfur rebels accuse Sudan of mounting major...   \n",
       "\n",
       "                                                  24  \n",
       "0           b No Help for Mexico s Kidnapping Surge   \n",
       "1  b So this is what it s come to  trading sex fo...  \n",
       "2  b BBC NEWS   Asia Pacific   Extinction  by man...  \n",
       "3  b       Nobel laureate Aleksander Solzhenitsyn...  \n",
       "4  b Philippines   Peace Advocate say Muslims nee...  \n",
       "\n",
       "[5 rows x 25 columns]"
      ],
      "text/html": "<div>\n<style scoped>\n    .dataframe tbody tr th:only-of-type {\n        vertical-align: middle;\n    }\n\n    .dataframe tbody tr th {\n        vertical-align: top;\n    }\n\n    .dataframe thead th {\n        text-align: right;\n    }\n</style>\n<table border=\"1\" class=\"dataframe\">\n  <thead>\n    <tr style=\"text-align: right;\">\n      <th></th>\n      <th>0</th>\n      <th>1</th>\n      <th>2</th>\n      <th>3</th>\n      <th>4</th>\n      <th>5</th>\n      <th>6</th>\n      <th>7</th>\n      <th>8</th>\n      <th>9</th>\n      <th>...</th>\n      <th>15</th>\n      <th>16</th>\n      <th>17</th>\n      <th>18</th>\n      <th>19</th>\n      <th>20</th>\n      <th>21</th>\n      <th>22</th>\n      <th>23</th>\n      <th>24</th>\n    </tr>\n  </thead>\n  <tbody>\n    <tr>\n      <th>0</th>\n      <td>b Georgia  downs two Russian warplanes  as cou...</td>\n      <td>b BREAKING  Musharraf to be impeached</td>\n      <td>b Russia Today  Columns of troops roll into So...</td>\n      <td>b Russian tanks are moving towards the capital...</td>\n      <td>b Afghan children raped with  impunity   U N  ...</td>\n      <td>b     Russian tanks have entered South Ossetia...</td>\n      <td>b Breaking  Georgia invades South Ossetia  Rus...</td>\n      <td>b The  enemy combatent  trials are nothing but...</td>\n      <td>b Georgian troops retreat from S  Osettain cap...</td>\n      <td>b Did the U S  Prep Georgia for War with Russia</td>\n      <td>...</td>\n      <td>b Georgia Invades South Ossetia   if Russia ge...</td>\n      <td>b Al Qaeda Faces Islamist Backlash</td>\n      <td>b Condoleezza Rice   The US would not act to p...</td>\n      <td>b This is a busy day   The European Union has ...</td>\n      <td>b Georgia will withdraw       soldiers from Ir...</td>\n      <td>b Why the Pentagon Thinks Attacking Iran is a ...</td>\n      <td>b Caucasus in crisis  Georgia invades South Os...</td>\n      <td>b Indian shoe manufactory    And again in a se...</td>\n      <td>b Visitors Suffering from Mental Illnesses Ban...</td>\n      <td>b No Help for Mexico s Kidnapping Surge</td>\n    </tr>\n    <tr>\n      <th>1</th>\n      <td>b Why wont America and Nato help us  If they w...</td>\n      <td>b Bush puts foot down on Georgian conflict</td>\n      <td>b Jewish Georgian minister  Thanks to Israeli ...</td>\n      <td>b Georgian army flees in disarray as Russians ...</td>\n      <td>b Olympic opening ceremony fireworks  faked</td>\n      <td>b What were the Mossad with fraudulent New Zea...</td>\n      <td>b Russia angered by Israeli military sale to G...</td>\n      <td>b An American citizen living in S Ossetia blam...</td>\n      <td>b Welcome To World War IV  Now In High Definit...</td>\n      <td>b Georgia s move  a mistake of monumental prop...</td>\n      <td>...</td>\n      <td>b Israel and the US behind the Georgian aggres...</td>\n      <td>b  Do not believe TV  neither Russian nor Geor...</td>\n      <td>b Riots are still going on in Montreal  Canada...</td>\n      <td>b China to overtake US as largest manufacturer</td>\n      <td>b War in South Ossetia  PICS</td>\n      <td>b Israeli Physicians Group Condemns State Tort...</td>\n      <td>b  Russia has just beaten the United States ov...</td>\n      <td>b Perhaps  the  question about the Georgia   R...</td>\n      <td>b Russia is so much better at war</td>\n      <td>b So this is what it s come to  trading sex fo...</td>\n    </tr>\n    <tr>\n      <th>2</th>\n      <td>b Remember that adorable   year old who sang a...</td>\n      <td>b Russia  ends Georgia operation</td>\n      <td>b  If we had no sexual harassment we would hav...</td>\n      <td>b Al Qa eda is losing support in Iraq because ...</td>\n      <td>b Ceasefire in Georgia  Putin Outmaneuvers the...</td>\n      <td>b Why Microsoft and Intel tried to kill the XO...</td>\n      <td>b Stratfor  The Russo Georgian War and the Bal...</td>\n      <td>b I m Trying to Get a Sense of This Whole Geor...</td>\n      <td>b The US military was surprised by the timing ...</td>\n      <td>b U S  Beats War Drum as Iran Dumps the Dollar</td>\n      <td>...</td>\n      <td>b U S  troops still in Georgia  did you know t...</td>\n      <td>b Why Russias response to Georgia was right</td>\n      <td>b Gorbachev accuses U S  of making a  serious ...</td>\n      <td>b Russia  Georgia  and NATO  Cold War Two</td>\n      <td>b Remember that adorable    year old who led y...</td>\n      <td>b War in Georgia  The Israeli connection</td>\n      <td>b All signs point to the US encouraging Georgi...</td>\n      <td>b Christopher King argues that the US and NATO...</td>\n      <td>b America  The New Mexico</td>\n      <td>b BBC NEWS   Asia Pacific   Extinction  by man...</td>\n    </tr>\n    <tr>\n      <th>3</th>\n      <td>b  U S  refuses Israel weapons to attack Iran ...</td>\n      <td>b When the president ordered to attack Tskhinv...</td>\n      <td>b  Israel clears troops who killed Reuters cam...</td>\n      <td>b Britain  s policy of being tough on drugs is...</td>\n      <td>b Body of    year old found in trunk  Latest  ...</td>\n      <td>b China has moved     million  quake survivors...</td>\n      <td>b Bush announces Operation Get All Up In Russi...</td>\n      <td>b Russian forces sink Georgian ships</td>\n      <td>b The commander of a Navy air reconnaissance s...</td>\n      <td>b     of CNN readers  Russia s actions in Geor...</td>\n      <td>...</td>\n      <td>b Elephants extinct by</td>\n      <td>b US humanitarian missions soon in Georgia   i...</td>\n      <td>b Georgia s DDOS came from US sources</td>\n      <td>b Russian convoy heads into Georgia  violating...</td>\n      <td>b Israeli defence minister  US against strike ...</td>\n      <td>b Gorbachev  We Had No Choice</td>\n      <td>b Witness  Russian forces head towards Tbilisi...</td>\n      <td>b  Quarter of Russians blame U S  for conflict...</td>\n      <td>b Georgian president  says US military will ta...</td>\n      <td>b       Nobel laureate Aleksander Solzhenitsyn...</td>\n    </tr>\n    <tr>\n      <th>4</th>\n      <td>b All the experts admit that we should legalis...</td>\n      <td>b War in South Osetia      pictures made by a ...</td>\n      <td>b Swedish wrestler Ara Abrahamian throws away ...</td>\n      <td>b Russia exaggerated the death toll in South O...</td>\n      <td>b Missile That Killed   Inside Pakistan May Ha...</td>\n      <td>b Rushdie Condemns Random House s Refusal to P...</td>\n      <td>b Poland and US agree to missle defense deal  ...</td>\n      <td>b Will the Russians conquer Tblisi  Bet on it ...</td>\n      <td>b Russia exaggerating South Ossetian death tol...</td>\n      <td>b  Musharraf expected to resign rather than fa...</td>\n      <td>...</td>\n      <td>b Bank analyst forecast Georgian crisis   days...</td>\n      <td>b Georgia confict could set back Russia s US r...</td>\n      <td>b War in the Caucasus is as much the product o...</td>\n      <td>b  Non media  photos of South Ossetia Georgia ...</td>\n      <td>b Georgian TV reporter shot by Russian sniper ...</td>\n      <td>b Saudi Arabia  Mother moves to block child ma...</td>\n      <td>b Taliban wages war on humanitarian aid workers</td>\n      <td>b Russia  World   can forget about  Georgia  s...</td>\n      <td>b Darfur rebels accuse Sudan of mounting major...</td>\n      <td>b Philippines   Peace Advocate say Muslims nee...</td>\n    </tr>\n  </tbody>\n</table>\n<p>5 rows × 25 columns</p>\n</div>"
     },
     "metadata": {},
     "execution_count": 9
    }
   ],
   "source": [
    "l = [i for i in range(25)]\n",
    "sl = [str(i) for i in l]\n",
    "data.columns = sl\n",
    "data.head(5)"
   ]
  },
  {
   "cell_type": "code",
   "execution_count": 10,
   "metadata": {},
   "outputs": [
    {
     "output_type": "execute_result",
     "data": {
      "text/plain": [
       "                                                   0  \\\n",
       "0  b georgia  downs two russian warplanes  as cou...   \n",
       "1  b why wont america and nato help us  if they w...   \n",
       "\n",
       "                                             1  \\\n",
       "0      b breaking  musharraf to be impeached     \n",
       "1  b bush puts foot down on georgian conflict    \n",
       "\n",
       "                                                   2  \\\n",
       "0  b russia today  columns of troops roll into so...   \n",
       "1  b jewish georgian minister  thanks to israeli ...   \n",
       "\n",
       "                                                   3  \\\n",
       "0  b russian tanks are moving towards the capital...   \n",
       "1  b georgian army flees in disarray as russians ...   \n",
       "\n",
       "                                                   4  \\\n",
       "0  b afghan children raped with  impunity   u n  ...   \n",
       "1      b olympic opening ceremony fireworks  faked     \n",
       "\n",
       "                                                   5  \\\n",
       "0  b     russian tanks have entered south ossetia...   \n",
       "1  b what were the mossad with fraudulent new zea...   \n",
       "\n",
       "                                                   6  \\\n",
       "0  b breaking  georgia invades south ossetia  rus...   \n",
       "1  b russia angered by israeli military sale to g...   \n",
       "\n",
       "                                                   7  \\\n",
       "0  b the  enemy combatent  trials are nothing but...   \n",
       "1  b an american citizen living in s ossetia blam...   \n",
       "\n",
       "                                                   8  \\\n",
       "0  b georgian troops retreat from s  osettain cap...   \n",
       "1  b welcome to world war iv  now in high definit...   \n",
       "\n",
       "                                                   9  ...  \\\n",
       "0  b did the u s  prep georgia for war with russia    ...   \n",
       "1  b georgia s move  a mistake of monumental prop...  ...   \n",
       "\n",
       "                                                  15  \\\n",
       "0  b georgia invades south ossetia   if russia ge...   \n",
       "1  b israel and the us behind the georgian aggres...   \n",
       "\n",
       "                                                  16  \\\n",
       "0                b al qaeda faces islamist backlash    \n",
       "1  b  do not believe tv  neither russian nor geor...   \n",
       "\n",
       "                                                  17  \\\n",
       "0  b condoleezza rice   the us would not act to p...   \n",
       "1  b riots are still going on in montreal  canada...   \n",
       "\n",
       "                                                  18  \\\n",
       "0  b this is a busy day   the european union has ...   \n",
       "1    b china to overtake us as largest manufacturer    \n",
       "\n",
       "                                                  19  \\\n",
       "0  b georgia will withdraw       soldiers from ir...   \n",
       "1                     b war in south ossetia  pics     \n",
       "\n",
       "                                                  20  \\\n",
       "0  b why the pentagon thinks attacking iran is a ...   \n",
       "1  b israeli physicians group condemns state tort...   \n",
       "\n",
       "                                                  21  \\\n",
       "0  b caucasus in crisis  georgia invades south os...   \n",
       "1  b  russia has just beaten the united states ov...   \n",
       "\n",
       "                                                  22  \\\n",
       "0  b indian shoe manufactory    and again in a se...   \n",
       "1  b perhaps  the  question about the georgia   r...   \n",
       "\n",
       "                                                  23  \\\n",
       "0  b visitors suffering from mental illnesses ban...   \n",
       "1                 b russia is so much better at war    \n",
       "\n",
       "                                                  24  \n",
       "0           b no help for mexico s kidnapping surge   \n",
       "1  b so this is what it s come to  trading sex fo...  \n",
       "\n",
       "[2 rows x 25 columns]"
      ],
      "text/html": "<div>\n<style scoped>\n    .dataframe tbody tr th:only-of-type {\n        vertical-align: middle;\n    }\n\n    .dataframe tbody tr th {\n        vertical-align: top;\n    }\n\n    .dataframe thead th {\n        text-align: right;\n    }\n</style>\n<table border=\"1\" class=\"dataframe\">\n  <thead>\n    <tr style=\"text-align: right;\">\n      <th></th>\n      <th>0</th>\n      <th>1</th>\n      <th>2</th>\n      <th>3</th>\n      <th>4</th>\n      <th>5</th>\n      <th>6</th>\n      <th>7</th>\n      <th>8</th>\n      <th>9</th>\n      <th>...</th>\n      <th>15</th>\n      <th>16</th>\n      <th>17</th>\n      <th>18</th>\n      <th>19</th>\n      <th>20</th>\n      <th>21</th>\n      <th>22</th>\n      <th>23</th>\n      <th>24</th>\n    </tr>\n  </thead>\n  <tbody>\n    <tr>\n      <th>0</th>\n      <td>b georgia  downs two russian warplanes  as cou...</td>\n      <td>b breaking  musharraf to be impeached</td>\n      <td>b russia today  columns of troops roll into so...</td>\n      <td>b russian tanks are moving towards the capital...</td>\n      <td>b afghan children raped with  impunity   u n  ...</td>\n      <td>b     russian tanks have entered south ossetia...</td>\n      <td>b breaking  georgia invades south ossetia  rus...</td>\n      <td>b the  enemy combatent  trials are nothing but...</td>\n      <td>b georgian troops retreat from s  osettain cap...</td>\n      <td>b did the u s  prep georgia for war with russia</td>\n      <td>...</td>\n      <td>b georgia invades south ossetia   if russia ge...</td>\n      <td>b al qaeda faces islamist backlash</td>\n      <td>b condoleezza rice   the us would not act to p...</td>\n      <td>b this is a busy day   the european union has ...</td>\n      <td>b georgia will withdraw       soldiers from ir...</td>\n      <td>b why the pentagon thinks attacking iran is a ...</td>\n      <td>b caucasus in crisis  georgia invades south os...</td>\n      <td>b indian shoe manufactory    and again in a se...</td>\n      <td>b visitors suffering from mental illnesses ban...</td>\n      <td>b no help for mexico s kidnapping surge</td>\n    </tr>\n    <tr>\n      <th>1</th>\n      <td>b why wont america and nato help us  if they w...</td>\n      <td>b bush puts foot down on georgian conflict</td>\n      <td>b jewish georgian minister  thanks to israeli ...</td>\n      <td>b georgian army flees in disarray as russians ...</td>\n      <td>b olympic opening ceremony fireworks  faked</td>\n      <td>b what were the mossad with fraudulent new zea...</td>\n      <td>b russia angered by israeli military sale to g...</td>\n      <td>b an american citizen living in s ossetia blam...</td>\n      <td>b welcome to world war iv  now in high definit...</td>\n      <td>b georgia s move  a mistake of monumental prop...</td>\n      <td>...</td>\n      <td>b israel and the us behind the georgian aggres...</td>\n      <td>b  do not believe tv  neither russian nor geor...</td>\n      <td>b riots are still going on in montreal  canada...</td>\n      <td>b china to overtake us as largest manufacturer</td>\n      <td>b war in south ossetia  pics</td>\n      <td>b israeli physicians group condemns state tort...</td>\n      <td>b  russia has just beaten the united states ov...</td>\n      <td>b perhaps  the  question about the georgia   r...</td>\n      <td>b russia is so much better at war</td>\n      <td>b so this is what it s come to  trading sex fo...</td>\n    </tr>\n  </tbody>\n</table>\n<p>2 rows × 25 columns</p>\n</div>"
     },
     "metadata": {},
     "execution_count": 10
    }
   ],
   "source": [
    "# Converting the all the data to lowercase\n",
    "for index in sl:\n",
    "    data[index] = data[index].str.lower()\n",
    "data.head(2)"
   ]
  },
  {
   "source": [
    "## Text Pre-processing\n",
    "### ii) Comibining all the headlines to single sentence"
   ],
   "cell_type": "markdown",
   "metadata": {}
  },
  {
   "cell_type": "code",
   "execution_count": 11,
   "metadata": {},
   "outputs": [
    {
     "output_type": "execute_result",
     "data": {
      "text/plain": [
       "'b why wont america and nato help us  if they wont help us now  why did we help them in iraq   b bush puts foot down on georgian conflict  b jewish georgian minister  thanks to israeli training  we re fending off russia   b georgian army flees in disarray as russians advance   gori abandoned to russia without a shot fired  b olympic opening ceremony fireworks  faked   b what were the mossad with fraudulent new zealand passports doing in iraq   b russia angered by israeli military sale to georgia  b an american citizen living in s ossetia blames u s  and georgian leaders for the genocide of innocent people  b welcome to world war iv  now in high definition   b georgia s move  a mistake of monumental proportions   b russia presses deeper into georgia  u s  says regime change is goal  b abhinav bindra wins first ever individual olympic gold medal for india  b  u s  ship heads for arctic to define territory  b drivers in a jerusalem taxi station threaten to quit rather than work for their new boss   an arab  b the french team is stunned by phelps and the  x   m relay team  b israel and the us behind the georgian aggression   b  do not believe tv  neither russian nor georgian  there are much more victims   b riots are still going on in montreal  canada  because police murdered a boy on saturday   b china to overtake us as largest manufacturer  b war in south ossetia  pics   b israeli physicians group condemns state torture  b  russia has just beaten the united states over the head with peak oil  b perhaps  the  question about the georgia   russia conflict   b russia is so much better at war  b so this is what it s come to  trading sex for food  '"
      ]
     },
     "metadata": {},
     "execution_count": 11
    }
   ],
   "source": [
    "' '.join(str(x) for x in data.iloc[1, 0:25])"
   ]
  },
  {
   "cell_type": "code",
   "execution_count": 12,
   "metadata": {},
   "outputs": [],
   "source": [
    "headlines = []  # All the sentences are stored in a list\n",
    "for row in range(0, len(data.index)):\n",
    "    headlines.append(' '.join(str(x) for x in data.iloc[row, 0:25]))"
   ]
  },
  {
   "cell_type": "code",
   "execution_count": 13,
   "metadata": {},
   "outputs": [
    {
     "output_type": "execute_result",
     "data": {
      "text/plain": [
       "'b mom of missing gay man  too bad he s not a    year old cheerleader  then they d still be looking for him  b russia  u s  poland missile deal won t go  unpunished   b the government has been accused of creating laws that have a chilling effect on freedom of expression in the uk in a critical report from the un s committee on human rights  b the italian government has lashed out at an influential catholic magazine which suggested fascism might be resurfacing within the government   b gorbachev  georgia started conflict in s  ossetia  b china fakes more than your girlfriend   ethnic minority  children at olympics ceremony were fake too   b the un s criticism of freedom of expression in the uk are valid  b russian general threatens nuclear strike on poland as bush demands moscow withdraws from georgia  b russia can inspect polish missile defence site  b russia georgia conflict fueled by rush to control caspian energy resources  b business week  victory in georgia gives russia the edge in the struggle over access to the caspian s    billion barrels of oil and trillions of cubic feet of gas  b under soviet rule we didn t believe a word of our own propaganda    but we have learnt    that the west has its own propaganda and    is more powerful because people believe it   b ministers have been accused of building a national dna database  by stealth  by retaining profiles of nearly        children never convicted of a crime   b russia  georgia can  forget  regaining provinces  b russians  seize us weapons depot  in georgia  b why are redditors generally supportive of russias invasion of georgia  but critical of americas in iraq   b johann hari  we need to stop being such cowards about islam  b us officials have said that their military presence in georgia will now become permanent  b israel clears troops who killed reuters cameraman  b unenforceable laws encourage cops to escalate their tactics    until tragedy occurs  b what chinese pollution really looks like  b hacker kidnaps and tortures informant  posts picture as a warning to others  b bush tells putin  this aggression will not stand  b georgia is all about the oil pipelines  b rivals say they plan to remove georgian president '"
      ]
     },
     "metadata": {},
     "execution_count": 13
    }
   ],
   "source": [
    "headlines[5]"
   ]
  },
  {
   "cell_type": "code",
   "execution_count": 14,
   "metadata": {},
   "outputs": [
    {
     "output_type": "stream",
     "name": "stdout",
     "text": [
      "['i', 'me', 'my', 'myself', 'we', 'our', 'ours', 'ourselves', 'you', \"you're\", \"you've\", \"you'll\", \"you'd\", 'your', 'yours', 'yourself', 'yourselves', 'he', 'him', 'his', 'himself', 'she', \"she's\", 'her', 'hers', 'herself', 'it', \"it's\", 'its', 'itself', 'they', 'them', 'their', 'theirs', 'themselves', 'what', 'which', 'who', 'whom', 'this', 'that', \"that'll\", 'these', 'those', 'am', 'is', 'are', 'was', 'were', 'be', 'been', 'being', 'have', 'has', 'had', 'having', 'do', 'does', 'did', 'doing', 'a', 'an', 'the', 'and', 'but', 'if', 'or', 'because', 'as', 'until', 'while', 'of', 'at', 'by', 'for', 'with', 'about', 'against', 'between', 'into', 'through', 'during', 'before', 'after', 'above', 'below', 'to', 'from', 'up', 'down', 'in', 'out', 'on', 'off', 'over', 'under', 'again', 'further', 'then', 'once', 'here', 'there', 'when', 'where', 'why', 'how', 'all', 'any', 'both', 'each', 'few', 'more', 'most', 'other', 'some', 'such', 'no', 'nor', 'not', 'only', 'own', 'same', 'so', 'than', 'too', 'very', 's', 't', 'can', 'will', 'just', 'don', \"don't\", 'should', \"should've\", 'now', 'd', 'll', 'm', 'o', 're', 've', 'y', 'ain', 'aren', \"aren't\", 'couldn', \"couldn't\", 'didn', \"didn't\", 'doesn', \"doesn't\", 'hadn', \"hadn't\", 'hasn', \"hasn't\", 'haven', \"haven't\", 'isn', \"isn't\", 'ma', 'mightn', \"mightn't\", 'mustn', \"mustn't\", 'needn', \"needn't\", 'shan', \"shan't\", 'shouldn', \"shouldn't\", 'wasn', \"wasn't\", 'weren', \"weren't\", 'won', \"won't\", 'wouldn', \"wouldn't\"]\n"
     ]
    }
   ],
   "source": [
    "import nltk\n",
    "from nltk.corpus import stopwords \n",
    "stop_words = stopwords.words('english') \n",
    "print(stop_words)"
   ]
  },
  {
   "cell_type": "code",
   "execution_count": null,
   "metadata": {},
   "outputs": [],
   "source": [
    "for l in haedlines:\n",
    "    s= set(headlines)"
   ]
  },
  {
   "cell_type": "code",
   "execution_count": 17,
   "metadata": {},
   "outputs": [],
   "source": [
    "filt_headlines = []  # All the sentences are stored in a list\n",
    "l =[]\n",
    "filtered_list = []\n",
    "for row in range(0, len(data.index)):\n",
    "    l = set(' '.join(str(x) for x in data.iloc[row, 0:25]))\n",
    "    filtered_list = [w for w in l if not w in stop_words]\n",
    "    filt_headlines.append(filtered_list)"
   ]
  },
  {
   "cell_type": "code",
   "execution_count": 18,
   "metadata": {},
   "outputs": [
    {
     "output_type": "stream",
     "name": "stdout",
     "text": [
      "['n', 'w', 'l', 'b', 'p', 'j', 'u', 'c', 'v', 'z', 'q', 'x', 'h', 'r', 'f', 'k', ' ', 'e', 'g']\n"
     ]
    }
   ],
   "source": [
    "print(filt_headlines[5])"
   ]
  },
  {
   "source": [
    "## Using the TF-IDF - Feature Extraction Technique\n",
    " - It tells us how important a __word__ is to a document in a collection or corpus by computing the term frequency."
   ],
   "cell_type": "markdown",
   "metadata": {}
  },
  {
   "cell_type": "code",
   "execution_count": 16,
   "metadata": {},
   "outputs": [],
   "source": [
    "from sklearn.feature_extraction.text import TfidfVectorizer\n"
   ]
  },
  {
   "source": [
    "### Implementing TF-IDF for training data"
   ],
   "cell_type": "markdown",
   "metadata": {}
  },
  {
   "cell_type": "code",
   "execution_count": 17,
   "metadata": {},
   "outputs": [],
   "source": [
    "#implement TF-IDF\n",
    "tfvector=TfidfVectorizer(ngram_range=(2,3))\n",
    "# N-gram means a sequence of N words and here we will combine 2 words together\n",
    "train_df=tfvector.fit_transform(headlines)"
   ]
  },
  {
   "cell_type": "code",
   "execution_count": 18,
   "metadata": {},
   "outputs": [
    {
     "output_type": "execute_result",
     "data": {
      "text/plain": [
       "Date                                            2015-01-02\n",
       "Label                                                    1\n",
       "Top1     Most cases of cancer are the result of sheer b...\n",
       "Top2     Iran dismissed United States efforts to fight ...\n",
       "Top3     Poll: One in 8 Germans would join anti-Muslim ...\n",
       "Top4     UK royal family's Prince Andrew named in US la...\n",
       "Top5     Some 40 asylum-seekers refused to leave the bu...\n",
       "Top6     Pakistani boat blows self up after India navy ...\n",
       "Top7     Sweden hit by third mosque arson attack in a week\n",
       "Top8            940 cars set alight during French New Year\n",
       "Top9     Salaries for top CEOs rose twice as fast as av...\n",
       "Top10    Norway violated equal-pay law, judge says: Jud...\n",
       "Top11    Imam wants radical recruiters of Muslim youth ...\n",
       "Top12    Saudi Arabia beheaded 83 people in 2014, the m...\n",
       "Top13    'A living hell' for slaves on remote South Kor...\n",
       "Top14    Worlds 400 richest get richer, adding $92bn in...\n",
       "Top15    Rental Car Stereos Infringe Copyright, Music R...\n",
       "Top16    Ukrainian minister threatens TV channel with c...\n",
       "Top17    Palestinian President Mahmoud Abbas has entere...\n",
       "Top18    Israeli security center publishes names of 50 ...\n",
       "Top19    The year 2014 was the deadliest year yet in Sy...\n",
       "Top20    A Secret underground complex built by the Nazi...\n",
       "Top21    Restrictions on Web Freedom a Major Global Iss...\n",
       "Top22    Austrian journalist Erich Mchel delivered a pr...\n",
       "Top23      Thousands of Ukraine nationalists march in Kiev\n",
       "Top24    Chinas New Years Resolution: No More Harvestin...\n",
       "Top25    Authorities Pull Plug on Russia's Last Politic...\n",
       "Name: 1611, dtype: object"
      ]
     },
     "metadata": {},
     "execution_count": 18
    }
   ],
   "source": [
    "# Viewing our test set\n",
    "test.loc[1611, :]"
   ]
  },
  {
   "source": [
    "### Implementing TF-IDF for testing data"
   ],
   "cell_type": "markdown",
   "metadata": {}
  },
  {
   "cell_type": "code",
   "execution_count": 19,
   "metadata": {},
   "outputs": [],
   "source": [
    "tf =[]\n",
    "for row in range(0, len(test.index)):\n",
    "    tf.append(' '.join(str(x) for x in test.iloc[row, 2:27]))\n",
    "    \n",
    "test_dataset = tfvector.transform(tf)"
   ]
  },
  {
   "source": [
    "## Using Different Classifiers:\n",
    " - RandomForestClassifier\n",
    " - Naive Bayes Classifier\n",
    " - KNeighbors Classifier\n",
    " - Logisticv Regression Classifier"
   ],
   "cell_type": "markdown",
   "metadata": {}
  },
  {
   "cell_type": "code",
   "execution_count": 20,
   "metadata": {},
   "outputs": [],
   "source": [
    "from sklearn.ensemble import RandomForestClassifier"
   ]
  },
  {
   "source": [
    " ## 1) RandomForest Classifier"
   ],
   "cell_type": "markdown",
   "metadata": {}
  },
  {
   "cell_type": "code",
   "execution_count": 21,
   "metadata": {},
   "outputs": [
    {
     "output_type": "execute_result",
     "data": {
      "text/plain": [
       "RandomForestClassifier(bootstrap=True, ccp_alpha=0.0, class_weight=None,\n",
       "                       criterion='entropy', max_depth=None, max_features='auto',\n",
       "                       max_leaf_nodes=None, max_samples=None,\n",
       "                       min_impurity_decrease=0.0, min_impurity_split=None,\n",
       "                       min_samples_leaf=1, min_samples_split=2,\n",
       "                       min_weight_fraction_leaf=0.0, n_estimators=200,\n",
       "                       n_jobs=None, oob_score=False, random_state=None,\n",
       "                       verbose=0, warm_start=False)"
      ]
     },
     "metadata": {},
     "execution_count": 21
    }
   ],
   "source": [
    "# implement RandomForest Classifier\n",
    "rf=RandomForestClassifier(n_estimators=200,criterion='entropy')\n",
    "# Training the model\n",
    "rf.fit(train_df,train['Label'])"
   ]
  },
  {
   "cell_type": "code",
   "execution_count": 22,
   "metadata": {},
   "outputs": [],
   "source": [
    "# Predicting the test set\n",
    "rf_pred = rf.predict(test_dataset)"
   ]
  },
  {
   "cell_type": "code",
   "execution_count": 23,
   "metadata": {},
   "outputs": [
    {
     "output_type": "execute_result",
     "data": {
      "text/plain": [
       "array([1, 0, 0, 1, 1, 0, 0, 0, 0, 0, 1, 1, 1, 1, 0, 1, 0, 0, 1, 0, 1, 1,\n",
       "       1, 1, 0, 0, 1, 0, 1, 1, 1, 0, 0, 1, 0, 1, 1, 0, 0, 1, 0, 0, 1, 0,\n",
       "       1, 0, 0, 1, 0, 1, 0, 1, 0, 1, 0, 0, 0, 0, 1, 1, 0, 0, 1, 1, 0, 1,\n",
       "       1, 1, 0, 1, 1, 0, 0, 1, 0, 1, 1, 1, 0, 1, 0, 0, 1, 1, 0, 0, 1, 1,\n",
       "       0, 0, 0, 1, 1, 1, 1, 0, 1, 0, 0, 1, 0, 0, 1, 0, 1, 0, 0, 0, 0, 1,\n",
       "       1, 0, 0, 1, 1, 1, 0, 1, 1, 0, 0, 1, 0, 1, 1, 0, 0, 1, 0, 1, 1, 1,\n",
       "       1, 0, 1, 0, 1, 0, 0, 0, 0, 0, 1, 1, 0, 0, 0, 0, 0, 0, 0, 1, 0, 0,\n",
       "       1, 1, 1, 0, 0, 0, 0, 0, 0, 1, 1, 0, 0, 0, 1, 1, 0, 1, 0, 1, 1, 0,\n",
       "       1, 1, 0, 0, 1, 0, 0, 0, 1, 0, 1, 1, 0, 1, 1, 1, 1, 1, 1, 1, 0, 0,\n",
       "       1, 1, 1, 0, 0, 1, 1, 0, 0, 1, 0, 0, 1, 1, 0, 0, 1, 0, 1, 0, 0, 0,\n",
       "       1, 1, 1, 0, 1, 0, 1, 1, 0, 0, 1, 0, 0, 1, 0, 0, 0, 1, 0, 1, 1, 1,\n",
       "       0, 0, 1, 1, 1, 0, 0, 1, 0, 0, 1, 0, 1, 1, 1, 1, 1, 1, 0, 1, 1, 0,\n",
       "       1, 1, 1, 1, 1, 1, 1, 1, 0, 1, 1, 1, 0, 0, 1, 1, 1, 1, 0, 1, 1, 0,\n",
       "       0, 0, 0, 0, 1, 1, 1, 1, 1, 0, 1, 1, 1, 1, 1, 1, 1, 1, 1, 1, 1, 0,\n",
       "       1, 1, 0, 1, 1, 1, 1, 1, 1, 0, 1, 1, 1, 0, 1, 1, 0, 1, 1, 0, 1, 1,\n",
       "       1, 1, 1, 0, 0, 1, 0, 1, 1, 1, 1, 0, 0, 0, 0, 0, 0, 1, 1, 1, 1, 0,\n",
       "       0, 0, 0, 0, 0, 1, 0, 1, 1, 1, 1, 0, 1, 1, 1, 1, 0, 0, 1, 1, 0, 1,\n",
       "       0, 1, 1, 1], dtype=int64)"
      ]
     },
     "metadata": {},
     "execution_count": 23
    }
   ],
   "source": [
    "# Predictions array\n",
    "rf_pred"
   ]
  },
  {
   "source": [
    "## 2) Multinomial Naive Bayes Classifier"
   ],
   "cell_type": "markdown",
   "metadata": {}
  },
  {
   "cell_type": "code",
   "execution_count": 24,
   "metadata": {},
   "outputs": [
    {
     "output_type": "execute_result",
     "data": {
      "text/plain": [
       "MultinomialNB(alpha=1.0, class_prior=None, fit_prior=True)"
      ]
     },
     "metadata": {},
     "execution_count": 24
    }
   ],
   "source": [
    "from sklearn.naive_bayes import MultinomialNB\n",
    "nb=MultinomialNB()\n",
    "# Training the model\n",
    "nb.fit(train_df,train['Label'])"
   ]
  },
  {
   "cell_type": "code",
   "execution_count": 25,
   "metadata": {},
   "outputs": [],
   "source": [
    "# Predicting the model\n",
    "nb_pred = nb.predict(test_dataset)"
   ]
  },
  {
   "cell_type": "code",
   "execution_count": 26,
   "metadata": {},
   "outputs": [
    {
     "output_type": "execute_result",
     "data": {
      "text/plain": [
       "array([1, 0, 0, 1, 1, 0, 0, 0, 0, 0, 1, 1, 1, 1, 0, 1, 0, 0, 1, 0, 1, 1,\n",
       "       1, 1, 0, 0, 1, 0, 1, 1, 1, 0, 0, 1, 0, 1, 1, 0, 0, 1, 0, 0, 1, 0,\n",
       "       1, 0, 0, 1, 0, 1, 0, 1, 0, 1, 0, 0, 0, 0, 1, 1, 0, 0, 1, 1, 0, 1,\n",
       "       1, 1, 0, 1, 1, 0, 0, 1, 0, 1, 1, 1, 0, 1, 0, 0, 1, 1, 0, 0, 1, 1,\n",
       "       0, 0, 0, 1, 1, 1, 1, 0, 1, 0, 0, 1, 0, 0, 1, 0, 1, 0, 0, 0, 0, 1,\n",
       "       1, 0, 0, 1, 1, 1, 0, 1, 1, 0, 0, 1, 0, 1, 1, 0, 0, 1, 0, 1, 1, 1,\n",
       "       1, 0, 1, 0, 1, 0, 0, 0, 0, 0, 1, 1, 0, 0, 0, 0, 0, 0, 0, 1, 0, 0,\n",
       "       1, 1, 1, 0, 0, 0, 0, 0, 0, 1, 1, 0, 0, 0, 1, 1, 0, 1, 0, 1, 1, 0,\n",
       "       1, 1, 0, 0, 1, 0, 0, 0, 1, 0, 1, 1, 0, 1, 1, 1, 1, 1, 1, 1, 0, 0,\n",
       "       1, 1, 1, 0, 0, 1, 1, 0, 0, 1, 0, 0, 1, 1, 0, 0, 1, 0, 1, 0, 0, 0,\n",
       "       1, 1, 1, 0, 1, 0, 1, 1, 0, 0, 1, 0, 0, 1, 0, 0, 0, 1, 0, 1, 1, 1,\n",
       "       0, 0, 1, 1, 1, 0, 0, 1, 0, 0, 1, 1, 1, 1, 1, 1, 1, 1, 1, 1, 1, 1,\n",
       "       1, 1, 1, 1, 1, 1, 1, 1, 1, 1, 1, 1, 1, 1, 1, 1, 1, 1, 1, 1, 1, 1,\n",
       "       1, 1, 1, 1, 1, 1, 1, 1, 1, 1, 1, 1, 1, 1, 1, 1, 1, 1, 1, 1, 1, 1,\n",
       "       1, 1, 1, 1, 1, 1, 1, 1, 1, 1, 1, 1, 1, 1, 1, 1, 1, 1, 1, 1, 1, 1,\n",
       "       1, 1, 1, 1, 1, 1, 1, 1, 1, 1, 1, 1, 1, 1, 1, 1, 1, 1, 1, 1, 1, 1,\n",
       "       1, 1, 1, 1, 1, 1, 1, 1, 1, 1, 1, 1, 1, 1, 1, 1, 1, 1, 1, 1, 1, 1,\n",
       "       1, 1, 1, 1], dtype=int64)"
      ]
     },
     "metadata": {},
     "execution_count": 26
    }
   ],
   "source": [
    "nb_pred"
   ]
  },
  {
   "source": [
    "## 3) KNeighborsClassifier"
   ],
   "cell_type": "markdown",
   "metadata": {}
  },
  {
   "cell_type": "code",
   "execution_count": 27,
   "metadata": {},
   "outputs": [
    {
     "output_type": "execute_result",
     "data": {
      "text/plain": [
       "KNeighborsClassifier(algorithm='auto', leaf_size=30, metric='minkowski',\n",
       "                     metric_params=None, n_jobs=None, n_neighbors=5, p=2,\n",
       "                     weights='uniform')"
      ]
     },
     "metadata": {},
     "execution_count": 27
    }
   ],
   "source": [
    "from sklearn.model_selection import GridSearchCV\n",
    "from sklearn.neighbors import KNeighborsClassifier\n",
    "knn = KNeighborsClassifier()\n",
    "# dictionary to test for n_neighbors\n",
    "params_knn = {'n_neighbors': np.arange(1, 25)}\n",
    "#use gridsearch to test all values for n_neighbors\n",
    "knn_gs = GridSearchCV(knn, params_knn, cv=5)\n",
    "knn.fit(train_df,train['Label'])"
   ]
  },
  {
   "cell_type": "code",
   "execution_count": 28,
   "metadata": {},
   "outputs": [],
   "source": [
    "# Predicting the model\n",
    "knn_pred = knn.predict(test_dataset)"
   ]
  },
  {
   "source": [
    "## 4) Logistic Regression Classifier"
   ],
   "cell_type": "markdown",
   "metadata": {}
  },
  {
   "cell_type": "code",
   "execution_count": 29,
   "metadata": {},
   "outputs": [
    {
     "output_type": "execute_result",
     "data": {
      "text/plain": [
       "LogisticRegression(C=1.0, class_weight=None, dual=False, fit_intercept=True,\n",
       "                   intercept_scaling=1, l1_ratio=None, max_iter=100,\n",
       "                   multi_class='auto', n_jobs=None, penalty='l2',\n",
       "                   random_state=None, solver='lbfgs', tol=0.0001, verbose=0,\n",
       "                   warm_start=False)"
      ]
     },
     "metadata": {},
     "execution_count": 29
    }
   ],
   "source": [
    "from sklearn.linear_model import LogisticRegression\n",
    "lr = LogisticRegression()\n",
    "# Training the model\n",
    "lr.fit(train_df,train['Label'])"
   ]
  },
  {
   "cell_type": "code",
   "execution_count": 30,
   "metadata": {},
   "outputs": [],
   "source": [
    "#Predicting the dataset\n",
    "lr_pred = lr.predict(test_dataset)"
   ]
  },
  {
   "source": [
    "## Printing the accuracy"
   ],
   "cell_type": "markdown",
   "metadata": {}
  },
  {
   "cell_type": "code",
   "execution_count": 31,
   "metadata": {},
   "outputs": [
    {
     "output_type": "stream",
     "name": "stdout",
     "text": [
      "RandomForestClassifier: 84.65608465608466%\nMultinomial NB: 85.18518518518519%\nKNeighborsClassifier: 62.43386243386243%\nLogostic Regression Classifier: 85.18518518518519%\n"
     ]
    }
   ],
   "source": [
    "# Importing the libararies\n",
    "from sklearn.metrics import classification_report, confusion_matrix, accuracy_score\n",
    "\n",
    "rf_score = accuracy_score(test['Label'], rf_pred)\n",
    "nb_score = accuracy_score(test['Label'], nb_pred)\n",
    "knn_score = accuracy_score(test['Label'], knn_pred)\n",
    "lr_score = accuracy_score(test['Label'], lr_pred)\n",
    "print('RandomForestClassifier: {}%'.format(rf_score*100))\n",
    "print('Multinomial NB: {}%'.format(nb_score*100))\n",
    "print('KNeighborsClassifier: {}%'.format(knn_score*100))\n",
    "print('Logostic Regression Classifier: {}%'.format(lr_score*100))"
   ]
  },
  {
   "cell_type": "code",
   "execution_count": 32,
   "metadata": {},
   "outputs": [],
   "source": [
    "# from sklearn.model_selection import cross_val_score\n",
    "# from sklearn.ensemble import AdaBoostClassifier\n",
    "# ensemble_ada_clas = AdaBoostClassifier(n_estimators=100)\n",
    "# ensemble_score = cross_val_score(ensemble_ada_clas,train_df,train['Label'], cv=5)\n",
    "# ensemble_score.mean()"
   ]
  },
  {
   "source": [
    "## Ensemble "
   ],
   "cell_type": "markdown",
   "metadata": {}
  },
  {
   "cell_type": "code",
   "execution_count": 52,
   "metadata": {},
   "outputs": [],
   "source": [
    "from sklearn.ensemble import VotingClassifier\n",
    "\n",
    "#params_rf = {‘n_estimators’: [50, 100, 200]}\n",
    "#rf_gs = GridSearchCV(rf, params_rf, cv=5)\n",
    "\n",
    "estimators=[('knn', nb), ('rf', rf), ('log_reg', lr)]\n",
    "#create our voting classifier, inputting our models\n",
    "ensemble = VotingClassifier(estimators, voting='soft')"
   ]
  },
  {
   "source": [
    "ensemble.fit(train_df,train['Label'])"
   ],
   "cell_type": "code",
   "metadata": {},
   "execution_count": 53,
   "outputs": [
    {
     "output_type": "execute_result",
     "data": {
      "text/plain": [
       "VotingClassifier(estimators=[('knn',\n",
       "                              MultinomialNB(alpha=1.0, class_prior=None,\n",
       "                                            fit_prior=True)),\n",
       "                             ('rf',\n",
       "                              RandomForestClassifier(bootstrap=True,\n",
       "                                                     ccp_alpha=0.0,\n",
       "                                                     class_weight=None,\n",
       "                                                     criterion='entropy',\n",
       "                                                     max_depth=None,\n",
       "                                                     max_features='auto',\n",
       "                                                     max_leaf_nodes=None,\n",
       "                                                     max_samples=None,\n",
       "                                                     min_impurity_decrease=0.0,\n",
       "                                                     min_impurity_split=None,\n",
       "                                                     min_samples_leaf=1,\n",
       "                                                     min_samples_split=2...\n",
       "                                                     random_state=None,\n",
       "                                                     verbose=0,\n",
       "                                                     warm_start=False)),\n",
       "                             ('log_reg',\n",
       "                              LogisticRegression(C=1.0, class_weight=None,\n",
       "                                                 dual=False, fit_intercept=True,\n",
       "                                                 intercept_scaling=1,\n",
       "                                                 l1_ratio=None, max_iter=100,\n",
       "                                                 multi_class='auto',\n",
       "                                                 n_jobs=None, penalty='l2',\n",
       "                                                 random_state=None,\n",
       "                                                 solver='lbfgs', tol=0.0001,\n",
       "                                                 verbose=0,\n",
       "                                                 warm_start=False))],\n",
       "                 flatten_transform=True, n_jobs=None, voting='soft',\n",
       "                 weights=None)"
      ]
     },
     "metadata": {},
     "execution_count": 53
    }
   ]
  },
  {
   "cell_type": "code",
   "execution_count": 54,
   "metadata": {},
   "outputs": [],
   "source": [
    "ensemble_preds = ensemble.predict(test_dataset)"
   ]
  },
  {
   "cell_type": "code",
   "execution_count": 55,
   "metadata": {},
   "outputs": [
    {
     "output_type": "stream",
     "name": "stdout",
     "text": [
      "Ensemble ACcuracy: 85.18518518518519%\n"
     ]
    }
   ],
   "source": [
    "ensemble_acc = accuracy_score(test['Label'], ensemble_preds)\n",
    "print('Ensemble Accuracy: {}%'.format(ensemble_acc*100))"
   ]
  },
  {
   "cell_type": "code",
   "execution_count": null,
   "metadata": {},
   "outputs": [],
   "source": []
  }
 ]
}